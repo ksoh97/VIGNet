{
 "cells": [
  {
   "cell_type": "code",
   "execution_count": 30,
   "metadata": {},
   "outputs": [],
   "source": [
    "# Import APIs\n",
    "import numpy as np\n",
    "import scipy.io"
   ]
  },
  {
   "cell_type": "code",
   "execution_count": 3,
   "metadata": {},
   "outputs": [],
   "source": [
    "# Define data path\n",
    "path = 'YOUR PATH",
    "\n",
    "def mat_to_npy(subject):\n",
    "    dr_event = scipy.io.loadmat(path  + \"/sb%d_eeg.mat\"%subject)[\"eeg\"][\"event\"][0, 0]\n",
    "    dr_data = scipy.io.loadmat(path  + \"/sb%d_eeg.mat\"%subject)[\"eeg\"][\"data\"][0, 0]\n",
    "    dr_flag = np.where(dr_event == 1)[-1][0] \n",
    "    \n",
    "    dr_data = dr_data[:, dr_flag:]\n",
    "    dr_tmp = np.zeros(shape=(180, 64, 5120)) # (180 trials, 64 channels, 10 second timepoints)\n",
    "    for i in range(dr_tmp.shape[0]):\n",
    "        dr_tmp[i, :, :] = dr_data[:64, i*5120:(i+1)*5120]\n",
    "        \n",
    "    wk_event = scipy.io.loadmat(path + \"/sg%d_eeg.mat\"%subject)[\"eeg\"][\"event\"][0, 0]\n",
    "    wk_data = scipy.io.loadmat(path + \"/sg%d_eeg.mat\"%subject)[\"eeg\"][\"data\"][0, 0]\n",
    "    wk_flag = np.where(wk_event == 1)[-1][0] \n",
    "        \n",
    "    wk_data = wk_data[:, wk_flag:]\n",
    "    wk_tmp = np.zeros(shape=(180, 64, 5120)) # (180 trials, 64 channels, 10 second timepoints)\n",
    "    for i in range(wk_tmp.shape[0]):\n",
    "        wk_tmp[i, :, :] = wk_data[:64, i*5120:(i+1)*5120]\n",
    "    \n",
    "    dr_label = np.zeros(shape=dr_tmp.shape[0])\n",
    "    wk_label = np.ones(shape=wk_tmp.shape[0])\n",
    "    \n",
    "    \n",
    "    print(dr_tmp.shape, dr_label.shape, wk_tmp.shape, wk_label.shape)\n",
    "    np.save(path + \"/5fold/subject%02d_drowsiness_eeg.npy\"%subject, dr_tmp)\n",
    "    np.save(path + \"/5fold/subject%02d_drowsiness_label.npy\"%subject, dr_label)\n",
    "    np.save(path + \"/5fold/subject%02d_normal_eeg.npy\"%subject, wk_tmp)\n",
    "    np.save(path + \"/5fold/subject%02d_normal_label.npy\"%subject, wk_label)\n",
    "    return"
   ]
  },
  {
   "cell_type": "code",
   "execution_count": null,
   "metadata": {},
   "outputs": [],
   "source": []
  },
  {
   "cell_type": "code",
   "execution_count": 5,
   "metadata": {
    "scrolled": true
   },
   "outputs": [
    {
     "name": "stdout",
     "output_type": "stream",
     "text": [
      "(288, 64, 5120) (288,) (72, 64, 5120) (72,)\n",
      "(288, 64, 5120) (288,) (72, 64, 5120) (72,)\n",
      "(288, 64, 5120) (288,) (72, 64, 5120) (72,)\n",
      "(288, 64, 5120) (288,) (72, 64, 5120) (72,)\n",
      "(288, 64, 5120) (288,) (72, 64, 5120) (72,)\n",
      "1\n",
      "(288, 64, 5120) (288,) (72, 64, 5120) (72,)\n",
      "(288, 64, 5120) (288,) (72, 64, 5120) (72,)\n",
      "(288, 64, 5120) (288,) (72, 64, 5120) (72,)\n",
      "(288, 64, 5120) (288,) (72, 64, 5120) (72,)\n",
      "(288, 64, 5120) (288,) (72, 64, 5120) (72,)\n",
      "2\n",
      "(288, 64, 5120) (288,) (72, 64, 5120) (72,)\n",
      "(288, 64, 5120) (288,) (72, 64, 5120) (72,)\n",
      "(288, 64, 5120) (288,) (72, 64, 5120) (72,)\n",
      "(288, 64, 5120) (288,) (72, 64, 5120) (72,)\n",
      "(288, 64, 5120) (288,) (72, 64, 5120) (72,)\n",
      "3\n",
      "(288, 64, 5120) (288,) (72, 64, 5120) (72,)\n",
      "(288, 64, 5120) (288,) (72, 64, 5120) (72,)\n",
      "(288, 64, 5120) (288,) (72, 64, 5120) (72,)\n",
      "(288, 64, 5120) (288,) (72, 64, 5120) (72,)\n",
      "(288, 64, 5120) (288,) (72, 64, 5120) (72,)\n",
      "4\n",
      "(288, 64, 5120) (288,) (72, 64, 5120) (72,)\n",
      "(288, 64, 5120) (288,) (72, 64, 5120) (72,)\n",
      "(288, 64, 5120) (288,) (72, 64, 5120) (72,)\n",
      "(288, 64, 5120) (288,) (72, 64, 5120) (72,)\n",
      "(288, 64, 5120) (288,) (72, 64, 5120) (72,)\n",
      "5\n",
      "(288, 64, 5120) (288,) (72, 64, 5120) (72,)\n",
      "(288, 64, 5120) (288,) (72, 64, 5120) (72,)\n",
      "(288, 64, 5120) (288,) (72, 64, 5120) (72,)\n",
      "(288, 64, 5120) (288,) (72, 64, 5120) (72,)\n",
      "(288, 64, 5120) (288,) (72, 64, 5120) (72,)\n",
      "6\n",
      "(288, 64, 5120) (288,) (72, 64, 5120) (72,)\n",
      "(288, 64, 5120) (288,) (72, 64, 5120) (72,)\n",
      "(288, 64, 5120) (288,) (72, 64, 5120) (72,)\n",
      "(288, 64, 5120) (288,) (72, 64, 5120) (72,)\n",
      "(288, 64, 5120) (288,) (72, 64, 5120) (72,)\n",
      "7\n",
      "(288, 64, 5120) (288,) (72, 64, 5120) (72,)\n",
      "(288, 64, 5120) (288,) (72, 64, 5120) (72,)\n",
      "(288, 64, 5120) (288,) (72, 64, 5120) (72,)\n",
      "(288, 64, 5120) (288,) (72, 64, 5120) (72,)\n",
      "(288, 64, 5120) (288,) (72, 64, 5120) (72,)\n",
      "8\n",
      "(288, 64, 5120) (288,) (72, 64, 5120) (72,)\n",
      "(288, 64, 5120) (288,) (72, 64, 5120) (72,)\n",
      "(288, 64, 5120) (288,) (72, 64, 5120) (72,)\n",
      "(288, 64, 5120) (288,) (72, 64, 5120) (72,)\n",
      "(288, 64, 5120) (288,) (72, 64, 5120) (72,)\n",
      "9\n",
      "(288, 64, 5120) (288,) (72, 64, 5120) (72,)\n",
      "(288, 64, 5120) (288,) (72, 64, 5120) (72,)\n",
      "(288, 64, 5120) (288,) (72, 64, 5120) (72,)\n",
      "(288, 64, 5120) (288,) (72, 64, 5120) (72,)\n",
      "(288, 64, 5120) (288,) (72, 64, 5120) (72,)\n",
      "10\n"
     ]
    }
   ],
   "source": [
    "def divide_5fold(subject):\n",
    "    path = 'YOUR PATH",
    "    dr_eeg = np.load(path + \"/subject%02d_drowsiness_eeg.npy\"%subject)\n",
    "    dr_lbl = np.load(path + \"/subject%02d_drowsiness_label.npy\"%subject)\n",
    "    wk_eeg = np.load(path + \"/subject%02d_normal_eeg.npy\"%subject)\n",
    "    wk_lbl = np.load(path + \"/subject%02d_normal_label.npy\"%subject)\n",
    "    \n",
    "    np.random.seed(970304)\n",
    "    rand_idx1 = np.random.permutation(dr_eeg.shape[0])\n",
    "    \n",
    "    np.random.seed(5930)\n",
    "    rand_idx2 = np.random.permutation(wk_eeg.shape[0])\n",
    "    \n",
    "    dr_eeg = dr_eeg[rand_idx1, :, :]\n",
    "    dr_lbl = dr_lbl[rand_idx1]\n",
    "    wk_eeg = wk_eeg[rand_idx2, :, :]\n",
    "    wk_lbl = wk_lbl[rand_idx2]\n",
    "    \n",
    "    tmp = int(dr_eeg.shape[0]/5)\n",
    "    for i in range(0, 5):\n",
    "        tmp1 = dr_eeg[i*tmp:(i+1)*tmp, :, :] # drowsy test eeg\n",
    "        tmp2 = dr_lbl[i*tmp:(i+1)*tmp] # drowsy test label\n",
    "        tmp3 = wk_eeg[i*tmp:(i+1)*tmp, :, :] # wake test eeg\n",
    "        tmp4 = wk_lbl[i*tmp:(i+1)*tmp] # wake test label\n",
    "        tmp5 = np.concatenate((dr_eeg[:i*tmp, :, :], dr_eeg[(i+1)*tmp:, :, :]),axis=0) # drowsy train eeg\n",
    "        tmp6 = np.concatenate((dr_lbl[:i*tmp], dr_lbl[(i+1)*tmp:]),axis=0) # drowsy train label\n",
    "        tmp7 = np.concatenateenate((wk_eeg[:i*tmp, :, :], wk_eeg[(i+1)*tmp:, :, :]),axis=0) # wake train eeg\n",
    "        tmp8 = np.concatenate((wk_lbl[:i*tmp], wk_lbl[(i+1)*tmp:]),axis=0) # wake train label\n",
    "        \n",
    "#         print(tmp1.shape, tmp2.shape, tmp3.shape, tmp4.shape)\n",
    "#         print(tmp5.shape, tmp6.shape, tmp7.shape, tmp8.shape)\n",
    "        \n",
    "        train_eeg = np.concatenate((tmp5, tmp7), axis=0)\n",
    "        train_label = np.concatenate((tmp6, tmp8), axis=0)\n",
    "        \n",
    "        test_eeg = np.concatenate((tmp1, tmp3), axis=0)\n",
    "        test_label = np.concatenate((tmp2, tmp4), axis=0)\n",
    "        \n",
    "        print(train_eeg.shape, train_label.shape, test_eeg.shape, test_label.shape)\n",
    "        \n",
    "#         np.save(path + \"/cv%01d_sbj%02d_test_eeg.npy\"%(i+1, subject), test_eeg)\n",
    "#         np.save(path + \"/cv%01d_sbj%02d_test_label.npy\"%(i+1, subject), test_label)\n",
    "        \n",
    "#         np.save(path + \"/cv%01d_sbj%02d_train_eeg.npy\"%(i+1, subject), train_eeg)\n",
    "#         np.save(path + \"/cv%01d_sbj%02d_train_label.npy\"%(i+1, subject), train_label)\n",
    "        \n",
    "    return\n",
    "\n",
    "for i in range(1, 11):\n",
    "    divide_5fold(i)\n",
    "    print(i)\n",
    "\n",
    "    "
   ]
  },
  {
   "cell_type": "code",
   "execution_count": 4,
   "metadata": {},
   "outputs": [
    {
     "name": "stdout",
     "output_type": "stream",
     "text": [
      "1 (576, 64, 5120) (576,)\n",
      "3 (864, 64, 5120) (864,)\n",
      "4 (1152, 64, 5120) (1152,)\n",
      "5 (1440, 64, 5120) (1440,)\n",
      "6 (1728, 64, 5120) (1728,)\n",
      "7 (2016, 64, 5120) (2016,)\n",
      "8 (2304, 64, 5120) (2304,)\n",
      "9 (2592, 64, 5120) (2592,)\n",
      "fold number 1\n",
      "\n",
      "1 (576, 64, 5120) (576,)\n",
      "3 (864, 64, 5120) (864,)\n",
      "4 (1152, 64, 5120) (1152,)\n",
      "5 (1440, 64, 5120) (1440,)\n",
      "6 (1728, 64, 5120) (1728,)\n",
      "7 (2016, 64, 5120) (2016,)\n",
      "8 (2304, 64, 5120) (2304,)\n",
      "9 (2592, 64, 5120) (2592,)\n"
     ]
    },
    {
     "ename": "KeyboardInterrupt",
     "evalue": "",
     "output_type": "error",
     "traceback": [
      "\u001b[0;31m---------------------------------------------------------------------------\u001b[0m",
      "\u001b[0;31mKeyboardInterrupt\u001b[0m                         Traceback (most recent call last)",
      "\u001b[0;32m<ipython-input-4-6dbae79676dc>\u001b[0m in \u001b[0;36m<module>\u001b[0;34m\u001b[0m\n\u001b[1;32m     31\u001b[0m         \u001b[0mprint\u001b[0m\u001b[0;34m(\u001b[0m\u001b[0;34m\"fold number %d\\n\"\u001b[0m \u001b[0;34m%\u001b[0m \u001b[0mi\u001b[0m\u001b[0;34m)\u001b[0m\u001b[0;34m\u001b[0m\u001b[0;34m\u001b[0m\u001b[0m\n\u001b[1;32m     32\u001b[0m \u001b[0;34m\u001b[0m\u001b[0m\n\u001b[0;32m---> 33\u001b[0;31m \u001b[0mdivide_Scenario1_set\u001b[0m\u001b[0;34m(\u001b[0m\u001b[0;36m10\u001b[0m\u001b[0;34m)\u001b[0m\u001b[0;34m\u001b[0m\u001b[0;34m\u001b[0m\u001b[0m\n\u001b[0m",
      "\u001b[0;32m<ipython-input-4-6dbae79676dc>\u001b[0m in \u001b[0;36mdivide_Scenario1_set\u001b[0;34m(subject)\u001b[0m\n\u001b[1;32m     26\u001b[0m                 \u001b[0mprint\u001b[0m\u001b[0;34m(\u001b[0m\u001b[0mj\u001b[0m\u001b[0;34m,\u001b[0m \u001b[0mtrain_eeg\u001b[0m\u001b[0;34m.\u001b[0m\u001b[0mshape\u001b[0m\u001b[0;34m,\u001b[0m \u001b[0mtrain_label\u001b[0m\u001b[0;34m.\u001b[0m\u001b[0mshape\u001b[0m\u001b[0;34m)\u001b[0m\u001b[0;34m\u001b[0m\u001b[0;34m\u001b[0m\u001b[0m\n\u001b[1;32m     27\u001b[0m \u001b[0;34m\u001b[0m\u001b[0m\n\u001b[0;32m---> 28\u001b[0;31m         \u001b[0mnp\u001b[0m\u001b[0;34m.\u001b[0m\u001b[0msave\u001b[0m\u001b[0;34m(\u001b[0m\u001b[0msave_path\u001b[0m \u001b[0;34m+\u001b[0m \u001b[0;34m\"/sbj%02d_%02d_train_eeg.npy\"\u001b[0m\u001b[0;34m%\u001b[0m\u001b[0;34m(\u001b[0m\u001b[0;36m1\u001b[0m\u001b[0;34m,\u001b[0m \u001b[0;36m9\u001b[0m\u001b[0;34m)\u001b[0m\u001b[0;34m,\u001b[0m \u001b[0mtrain_eeg\u001b[0m\u001b[0;34m)\u001b[0m\u001b[0;34m\u001b[0m\u001b[0;34m\u001b[0m\u001b[0m\n\u001b[0m\u001b[1;32m     29\u001b[0m         \u001b[0mnp\u001b[0m\u001b[0;34m.\u001b[0m\u001b[0msave\u001b[0m\u001b[0;34m(\u001b[0m\u001b[0msave_path\u001b[0m \u001b[0;34m+\u001b[0m \u001b[0;34m\"/sbj%02d_%02d_train_label.npy\"\u001b[0m\u001b[0;34m%\u001b[0m\u001b[0;34m(\u001b[0m\u001b[0;36m1\u001b[0m\u001b[0;34m,\u001b[0m \u001b[0;36m9\u001b[0m\u001b[0;34m)\u001b[0m\u001b[0;34m,\u001b[0m \u001b[0mtrain_label\u001b[0m\u001b[0;34m)\u001b[0m\u001b[0;34m\u001b[0m\u001b[0;34m\u001b[0m\u001b[0m\n\u001b[1;32m     30\u001b[0m \u001b[0;34m\u001b[0m\u001b[0m\n",
      "\u001b[0;32m~/anaconda3/lib/python3.7/site-packages/numpy/lib/npyio.py\u001b[0m in \u001b[0;36msave\u001b[0;34m(file, arr, allow_pickle, fix_imports)\u001b[0m\n\u001b[1;32m    527\u001b[0m         \u001b[0marr\u001b[0m \u001b[0;34m=\u001b[0m \u001b[0mnp\u001b[0m\u001b[0;34m.\u001b[0m\u001b[0masanyarray\u001b[0m\u001b[0;34m(\u001b[0m\u001b[0marr\u001b[0m\u001b[0;34m)\u001b[0m\u001b[0;34m\u001b[0m\u001b[0;34m\u001b[0m\u001b[0m\n\u001b[1;32m    528\u001b[0m         format.write_array(fid, arr, allow_pickle=allow_pickle,\n\u001b[0;32m--> 529\u001b[0;31m                            pickle_kwargs=pickle_kwargs)\n\u001b[0m\u001b[1;32m    530\u001b[0m     \u001b[0;32mfinally\u001b[0m\u001b[0;34m:\u001b[0m\u001b[0;34m\u001b[0m\u001b[0;34m\u001b[0m\u001b[0m\n\u001b[1;32m    531\u001b[0m         \u001b[0;32mif\u001b[0m \u001b[0mown_fid\u001b[0m\u001b[0;34m:\u001b[0m\u001b[0;34m\u001b[0m\u001b[0;34m\u001b[0m\u001b[0m\n",
      "\u001b[0;32m~/anaconda3/lib/python3.7/site-packages/numpy/lib/format.py\u001b[0m in \u001b[0;36mwrite_array\u001b[0;34m(fp, array, version, allow_pickle, pickle_kwargs)\u001b[0m\n\u001b[1;32m    638\u001b[0m     \u001b[0;32melse\u001b[0m\u001b[0;34m:\u001b[0m\u001b[0;34m\u001b[0m\u001b[0;34m\u001b[0m\u001b[0m\n\u001b[1;32m    639\u001b[0m         \u001b[0;32mif\u001b[0m \u001b[0misfileobj\u001b[0m\u001b[0;34m(\u001b[0m\u001b[0mfp\u001b[0m\u001b[0;34m)\u001b[0m\u001b[0;34m:\u001b[0m\u001b[0;34m\u001b[0m\u001b[0;34m\u001b[0m\u001b[0m\n\u001b[0;32m--> 640\u001b[0;31m             \u001b[0marray\u001b[0m\u001b[0;34m.\u001b[0m\u001b[0mtofile\u001b[0m\u001b[0;34m(\u001b[0m\u001b[0mfp\u001b[0m\u001b[0;34m)\u001b[0m\u001b[0;34m\u001b[0m\u001b[0;34m\u001b[0m\u001b[0m\n\u001b[0m\u001b[1;32m    641\u001b[0m         \u001b[0;32melse\u001b[0m\u001b[0;34m:\u001b[0m\u001b[0;34m\u001b[0m\u001b[0;34m\u001b[0m\u001b[0m\n\u001b[1;32m    642\u001b[0m             for chunk in numpy.nditer(\n",
      "\u001b[0;31mKeyboardInterrupt\u001b[0m: "
     ]
    }
   ],
   "source": [
    "def divide_Scenario1_set(subject):\n",
    "    \n",
    "    path = 'YOUR PATH",
    "    save_path = 'YOUR PATH",
    "    \n",
    "    for i in range (1,6):\n",
    "        for j in range(1, subject):\n",
    "            if j == 1:\n",
    "                trainEEG_1 = np.load(path + \"/cv%01d_sbj%02d_train_eeg.npy\"%(i, j))\n",
    "                trainEEG_2 = np.load(path + \"/cv%01d_sbj%02d_train_eeg.npy\"%(i, j+1))\n",
    "                train_eeg = np.concatenate((trainEEG_1, trainEEG_2), axis=0)\n",
    "                \n",
    "                trainLABEL_1 = np.load(path + \"/cv%01d_sbj%02d_train_label.npy\"%(i, j))\n",
    "                trainLABEL_2 = np.load(path + \"/cv%01d_sbj%02d_train_label.npy\"%(i, j+1))\n",
    "                train_label = np.concatenate((trainLABEL_1, trainLABEL_2), axis=0)\n",
    "                \n",
    "                print(j, train_eeg.shape, train_label.shape)\n",
    "                \n",
    "            elif j > 2:\n",
    "                trainEEG_3 = np.load(path + \"/cv%01d_sbj%02d_train_eeg.npy\"%(i, j))\n",
    "                train_eeg = np.concatenate((train_eeg, trainEEG_3))\n",
    "                \n",
    "                trainLABEL_3 = np.load(path + \"/cv%01d_sbj%02d_train_label.npy\"%(i, j))\n",
    "                train_label = np.concatenate((train_label, trainLABEL_3))\n",
    "                \n",
    "                print(j, train_eeg.shape, train_label.shape)\n",
    "\n",
    "#         np.save(save_path + \"/sbj%02d_%02d_train_eeg.npy\"%(1, 9), train_eeg)\n",
    "#         np.save(save_path + \"/sbj%02d_%02d_train_label.npy\"%(1, 9), train_label)\n",
    "        \n",
    "        print(\"fold number %d\\n\" % i)\n",
    "        \n",
    "divide_Scenario1_set(10)"
   ]
  },
  {
   "cell_type": "code",
   "execution_count": 2,
   "metadata": {
    "scrolled": false
   },
   "outputs": [
    {
     "name": "stderr",
     "output_type": "stream",
     "text": [
      "/home/hjkwon/anaconda3/lib/python3.7/site-packages/numba/decorators.py:146: RuntimeWarning: Caching is not available when the 'parallel' target is in use. Caching is now being disabled to allow execution to continue.\n",
      "  warnings.warn(msg, RuntimeWarning)\n",
      "<ipython-input-2-d318b622b6c3>:8: RuntimeWarning:   Could not parse meas date from the header. Setting to None.\n",
      "  data_format='auto', date_format='mm/dd/yy', preload=False, stim_channel=False, verbose=None)\n",
      "<ipython-input-2-d318b622b6c3>:8: RuntimeWarning: Could not define the number of bytes automatically. Defaulting to 2.\n",
      "  data_format='auto', date_format='mm/dd/yy', preload=False, stim_channel=False, verbose=None)\n"
     ]
    }
   ],
   "source": [
    "# Import APIs\n",
    "import numpy as np\n",
    "import scipy.io\n",
    "import mne.io\n",
    "\n",
    "path = '/home/hjkwon/Downloads/normal&drowsiness dataset/1/'\n",
    "data = mne.io.read_raw_cnt(path + 'Normal state.cnt', eog=(), misc=(), ecg=(), emg=(),\n",
    "                          data_format='auto', date_format='mm/dd/yy', preload=False, stim_channel=False, verbose=None)"
   ]
  },
  {
   "cell_type": "code",
   "execution_count": 42,
   "metadata": {},
   "outputs": [
    {
     "name": "stdout",
     "output_type": "stream",
     "text": [
      "(40, 600880)\n"
     ]
    }
   ],
   "source": [
    "print(data.get_data().shape)"
   ]
  },
  {
   "cell_type": "code",
   "execution_count": 1,
   "metadata": {
    "scrolled": false
   },
   "outputs": [
    {
     "ename": "NameError",
     "evalue": "name 'data' is not defined",
     "output_type": "error",
     "traceback": [
      "\u001b[0;31m---------------------------------------------------------------------------\u001b[0m",
      "\u001b[0;31mNameError\u001b[0m                                 Traceback (most recent call last)",
      "\u001b[0;32m<ipython-input-1-3289ce8542c6>\u001b[0m in \u001b[0;36m<module>\u001b[0;34m\u001b[0m\n\u001b[0;32m----> 1\u001b[0;31m \u001b[0mprint\u001b[0m\u001b[0;34m(\u001b[0m\u001b[0mdata\u001b[0m\u001b[0;34m.\u001b[0m\u001b[0mch_names\u001b[0m\u001b[0;34m)\u001b[0m\u001b[0;34m\u001b[0m\u001b[0;34m\u001b[0m\u001b[0m\n\u001b[0m\u001b[1;32m      2\u001b[0m \u001b[0mprint\u001b[0m\u001b[0;34m(\u001b[0m\u001b[0mdata\u001b[0m\u001b[0;34m.\u001b[0m\u001b[0mto_data_frame\u001b[0m\u001b[0;34m)\u001b[0m\u001b[0;34m\u001b[0m\u001b[0;34m\u001b[0m\u001b[0m\n\u001b[1;32m      3\u001b[0m \u001b[0;31m# print(data.times)\u001b[0m\u001b[0;34m\u001b[0m\u001b[0;34m\u001b[0m\u001b[0;34m\u001b[0m\u001b[0m\n",
      "\u001b[0;31mNameError\u001b[0m: name 'data' is not defined"
     ]
    }
   ],
   "source": [
    "print(data.ch_names)\n",
    "print(data.to_data_frame)\n",
    "# print(data.times)"
   ]
  },
  {
   "cell_type": "code",
   "execution_count": null,
   "metadata": {},
   "outputs": [],
   "source": []
  }
 ],
 "metadata": {
  "kernelspec": {
   "display_name": "Python 3",
   "language": "python",
   "name": "python3"
  },
  "language_info": {
   "codemirror_mode": {
    "name": "ipython",
    "version": 3
   },
   "file_extension": ".py",
   "mimetype": "text/x-python",
   "name": "python",
   "nbconvert_exporter": "python",
   "pygments_lexer": "ipython3",
   "version": "3.7.4"
  }
 },
 "nbformat": 4,
 "nbformat_minor": 2
}
