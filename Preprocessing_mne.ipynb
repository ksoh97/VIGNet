{
 "cells": [
  {
   "cell_type": "code",
   "execution_count": 45,
   "metadata": {
    "scrolled": true
   },
   "outputs": [],
   "source": [
    "# Import APIs\n",
    "import numpy as np\n",
    "import scipy.io\n",
    "import mne.io"
   ]
  },
  {
   "cell_type": "code",
   "execution_count": 84,
   "metadata": {},
   "outputs": [
    {
     "name": "stderr",
     "output_type": "stream",
     "text": [
      "<ipython-input-84-36e3fcb539ab>:3: RuntimeWarning:   Could not parse meas date from the header. Setting to None.\n",
      "  Normal_data = mne.io.read_raw_cnt(path + 'Normal state.cnt', preload=True, verbose=False)\n",
      "<ipython-input-84-36e3fcb539ab>:3: RuntimeWarning: Could not define the number of bytes automatically. Defaulting to 2.\n",
      "  Normal_data = mne.io.read_raw_cnt(path + 'Normal state.cnt', preload=True, verbose=False)\n",
      "<ipython-input-84-36e3fcb539ab>:4: RuntimeWarning:   Could not parse meas date from the header. Setting to None.\n",
      "  Drowsiness_data = mne.io.read_raw_cnt(path + 'Fatigue state.cnt', preload=True, verbose=False)\n",
      "<ipython-input-84-36e3fcb539ab>:4: RuntimeWarning: Could not define the number of bytes automatically. Defaulting to 2.\n",
      "  Drowsiness_data = mne.io.read_raw_cnt(path + 'Fatigue state.cnt', preload=True, verbose=False)\n"
     ]
    },
    {
     "name": "stdout",
     "output_type": "stream",
     "text": [
      "(30, 600880)\n"
     ]
    },
    {
     "data": {
      "text/plain": [
       "[<matplotlib.lines.Line2D at 0x7f9109147f90>]"
      ]
     },
     "execution_count": 84,
     "metadata": {},
     "output_type": "execute_result"
    },
    {
     "data": {
      "image/png": "[encoded data removed]",
      "text/plain": [
       "<Figure size 432x288 with 1 Axes>"
      ]
     },
     "metadata": {
      "needs_background": "light"
     },
     "output_type": "display_data"
    }
   ],
   "source": [
    "def load_data(subject):\n",
    "    path = 'YOUR PATH' + subject + \"/\"\n",
    "    Normal_data = mne.io.read_raw_cnt(path + 'Normal state.cnt', preload=True, verbose=False)\n",
    "    Drowsiness_data = mne.io.read_raw_cnt(path + 'Fatigue state.cnt', preload=True, verbose=False)\n",
    "    \n",
    "    removed_ch_list = [\"HEOL\", \"HEOR\", \"VEOU\", \"VEOL\", \"A1\", \"A2\", \"FT9\", \"FT10\", \"PO1\", \"PO2\"]\n",
    "    \n",
    "    # Dropping channels\n",
    "    Normal_data.drop_channels(removed_ch_list)\n",
    "    Drowsiness_data.drop_channels(removed_ch_list)\n",
    "        \n",
    "    tmp1 = Normal_data.get_data()\n",
    "    tmp2 = Drowsiness_data.get_data()\n",
    "    \n",
    "    return tmp1, tmp2\n",
    "\n",
    "a, b = load_data(\"1\")\n",
    "print(a.shape)\n",
    "plt.plot(range(6), a[0, :6])"
   ]
  },
  {
   "cell_type": "code",
   "execution_count": 37,
   "metadata": {},
   "outputs": [],
   "source": [
    "from mne.filter import filter_data\n",
    "\n",
    "def preprocessing(normal_eeg, drowsy_eeg, sampling_rate=1000, lowcut=0.15, highcut=45):\n",
    "    # Cropping 5 min length\n",
    "    length = 5 * 60 * sampling_rate\n",
    "    normal_eeg = normal_eeg[:, -length:]\n",
    "    drowsy_eeg = drowsy_eeg[:, -length:]\n",
    "    \n",
    "    # BPF in the range of 0.15~45Hz\n",
    "    normal_eeg = filter_data(normal_eeg, sfreq=sampling_rate, l_freq=lowcut, h_freq=highcut, verbose=False)\n",
    "    drowsy_eeg = filter_data(drowsy_eeg, sfreq=sampling_rate, l_freq=lowcut, h_freq=highcut, verbose=False)\n",
    "    return normal_eeg, drowsy_eeg"
   ]
  },
  {
   "cell_type": "code",
   "execution_count": 48,
   "metadata": {},
   "outputs": [],
   "source": [
    "def cropping(data, time_window=1000):\n",
    "    \"\"\"\n",
    "    Data shoud have the form of [# of channel, timepoints]\n",
    "    \"\"\"\n",
    "    # For rasing value error.\n",
    "    if time_window > data.shape[1]:\n",
    "        print(\"time_window should be shorter thna the timepoints of the input data.\")\n",
    "        raise ValueError\n",
    "    #TODO: Raising another value error for the illegal shape.\n",
    "    \n",
    "    num_trials = int(data.shape[-1]/time_window)\n",
    "    \n",
    "    tmp = np.empty(shape=(num_trials, data.shape[0], time_window))\n",
    "    for i in range(num_trials):\n",
    "        tmp[i, :, :] = data[:, i * time_window:(i + 1) * time_window]\n",
    "    return tmp"
   ]
  },
  {
   "cell_type": "code",
   "execution_count": 50,
   "metadata": {},
   "outputs": [],
   "source": [
    "def cnt_to_npy(subject):\n",
    "    path = 'YOUR PATH' + subject + \"/\"\n",
    "    tmp1, tmp2 = load_data(subject=subject)\n",
    "    tmp1, tmp2 = preprocessing(tmp1, tmp2)\n",
    "    tmp1, tmp2 = cropping(tmp1), cropping(tmp2)\n",
    "    \n",
    "    np.save(path + \"normal_eeg.npy\", tmp1)\n",
    "    np.save(path + \"drowsy_eeg.npy\", tmp2)\n",
    "    return"
   ]
  },
  {
   "cell_type": "code",
   "execution_count": 51,
   "metadata": {},
   "outputs": [
    {
     "name": "stderr",
     "output_type": "stream",
     "text": [
      "<ipython-input-29-e499ddcb6d6c>:3: RuntimeWarning:   Could not parse meas date from the header. Setting to None.\n",
      "  Normal_data = mne.io.read_raw_cnt(path + 'Normal state.cnt', preload=True, verbose=False)\n",
      "<ipython-input-29-e499ddcb6d6c>:3: RuntimeWarning: Could not define the number of bytes automatically. Defaulting to 2.\n",
      "  Normal_data = mne.io.read_raw_cnt(path + 'Normal state.cnt', preload=True, verbose=False)\n",
      "<ipython-input-29-e499ddcb6d6c>:4: RuntimeWarning:   Could not parse meas date from the header. Setting to None.\n",
      "  Drowsiness_data = mne.io.read_raw_cnt(path + 'Fatigue state.cnt', preload=True, verbose=False)\n",
      "<ipython-input-29-e499ddcb6d6c>:4: RuntimeWarning: Could not define the number of bytes automatically. Defaulting to 2.\n",
      "  Drowsiness_data = mne.io.read_raw_cnt(path + 'Fatigue state.cnt', preload=True, verbose=False)\n",
      "<ipython-input-29-e499ddcb6d6c>:3: RuntimeWarning: Could not define the number of bytes automatically. Defaulting to 2.\n",
      "  Normal_data = mne.io.read_raw_cnt(path + 'Normal state.cnt', preload=True, verbose=False)\n",
      "<ipython-input-29-e499ddcb6d6c>:4: RuntimeWarning: Could not define the number of bytes automatically. Defaulting to 2.\n",
      "  Drowsiness_data = mne.io.read_raw_cnt(path + 'Fatigue state.cnt', preload=True, verbose=False)\n",
      "<ipython-input-29-e499ddcb6d6c>:3: RuntimeWarning: Could not define the number of bytes automatically. Defaulting to 2.\n",
      "  Normal_data = mne.io.read_raw_cnt(path + 'Normal state.cnt', preload=True, verbose=False)\n",
      "<ipython-input-29-e499ddcb6d6c>:4: RuntimeWarning: Could not define the number of bytes automatically. Defaulting to 2.\n",
      "  Drowsiness_data = mne.io.read_raw_cnt(path + 'Fatigue state.cnt', preload=True, verbose=False)\n",
      "<ipython-input-29-e499ddcb6d6c>:3: RuntimeWarning: Could not define the number of bytes automatically. Defaulting to 2.\n",
      "  Normal_data = mne.io.read_raw_cnt(path + 'Normal state.cnt', preload=True, verbose=False)\n",
      "<ipython-input-29-e499ddcb6d6c>:4: RuntimeWarning: Could not define the number of bytes automatically. Defaulting to 2.\n",
      "  Drowsiness_data = mne.io.read_raw_cnt(path + 'Fatigue state.cnt', preload=True, verbose=False)\n",
      "<ipython-input-29-e499ddcb6d6c>:3: RuntimeWarning: Could not define the number of bytes automatically. Defaulting to 2.\n",
      "  Normal_data = mne.io.read_raw_cnt(path + 'Normal state.cnt', preload=True, verbose=False)\n",
      "<ipython-input-29-e499ddcb6d6c>:4: RuntimeWarning: Could not define the number of bytes automatically. Defaulting to 2.\n",
      "  Drowsiness_data = mne.io.read_raw_cnt(path + 'Fatigue state.cnt', preload=True, verbose=False)\n",
      "<ipython-input-29-e499ddcb6d6c>:3: RuntimeWarning: Could not define the number of bytes automatically. Defaulting to 2.\n",
      "  Normal_data = mne.io.read_raw_cnt(path + 'Normal state.cnt', preload=True, verbose=False)\n",
      "<ipython-input-29-e499ddcb6d6c>:4: RuntimeWarning: Could not define the number of bytes automatically. Defaulting to 2.\n",
      "  Drowsiness_data = mne.io.read_raw_cnt(path + 'Fatigue state.cnt', preload=True, verbose=False)\n",
      "<ipython-input-29-e499ddcb6d6c>:3: RuntimeWarning:   Could not parse meas date from the header. Setting to None.\n",
      "  Normal_data = mne.io.read_raw_cnt(path + 'Normal state.cnt', preload=True, verbose=False)\n",
      "<ipython-input-29-e499ddcb6d6c>:3: RuntimeWarning: Could not define the number of bytes automatically. Defaulting to 2.\n",
      "  Normal_data = mne.io.read_raw_cnt(path + 'Normal state.cnt', preload=True, verbose=False)\n",
      "<ipython-input-29-e499ddcb6d6c>:4: RuntimeWarning:   Could not parse meas date from the header. Setting to None.\n",
      "  Drowsiness_data = mne.io.read_raw_cnt(path + 'Fatigue state.cnt', preload=True, verbose=False)\n",
      "<ipython-input-29-e499ddcb6d6c>:4: RuntimeWarning: Could not define the number of bytes automatically. Defaulting to 2.\n",
      "  Drowsiness_data = mne.io.read_raw_cnt(path + 'Fatigue state.cnt', preload=True, verbose=False)\n",
      "<ipython-input-29-e499ddcb6d6c>:3: RuntimeWarning:   Could not parse meas date from the header. Setting to None.\n",
      "  Normal_data = mne.io.read_raw_cnt(path + 'Normal state.cnt', preload=True, verbose=False)\n",
      "<ipython-input-29-e499ddcb6d6c>:3: RuntimeWarning: Could not define the number of bytes automatically. Defaulting to 2.\n",
      "  Normal_data = mne.io.read_raw_cnt(path + 'Normal state.cnt', preload=True, verbose=False)\n",
      "<ipython-input-29-e499ddcb6d6c>:4: RuntimeWarning:   Could not parse meas date from the header. Setting to None.\n",
      "  Drowsiness_data = mne.io.read_raw_cnt(path + 'Fatigue state.cnt', preload=True, verbose=False)\n",
      "<ipython-input-29-e499ddcb6d6c>:4: RuntimeWarning: Could not define the number of bytes automatically. Defaulting to 2.\n",
      "  Drowsiness_data = mne.io.read_raw_cnt(path + 'Fatigue state.cnt', preload=True, verbose=False)\n",
      "<ipython-input-29-e499ddcb6d6c>:3: RuntimeWarning:   Could not parse meas date from the header. Setting to None.\n",
      "  Normal_data = mne.io.read_raw_cnt(path + 'Normal state.cnt', preload=True, verbose=False)\n",
      "<ipython-input-29-e499ddcb6d6c>:3: RuntimeWarning: Could not define the number of bytes automatically. Defaulting to 2.\n",
      "  Normal_data = mne.io.read_raw_cnt(path + 'Normal state.cnt', preload=True, verbose=False)\n",
      "<ipython-input-29-e499ddcb6d6c>:4: RuntimeWarning:   Could not parse meas date from the header. Setting to None.\n",
      "  Drowsiness_data = mne.io.read_raw_cnt(path + 'Fatigue state.cnt', preload=True, verbose=False)\n",
      "<ipython-input-29-e499ddcb6d6c>:4: RuntimeWarning: Could not define the number of bytes automatically. Defaulting to 2.\n",
      "  Drowsiness_data = mne.io.read_raw_cnt(path + 'Fatigue state.cnt', preload=True, verbose=False)\n",
      "<ipython-input-29-e499ddcb6d6c>:3: RuntimeWarning:   Could not parse meas date from the header. Setting to None.\n",
      "  Normal_data = mne.io.read_raw_cnt(path + 'Normal state.cnt', preload=True, verbose=False)\n",
      "<ipython-input-29-e499ddcb6d6c>:3: RuntimeWarning: Could not define the number of bytes automatically. Defaulting to 2.\n",
      "  Normal_data = mne.io.read_raw_cnt(path + 'Normal state.cnt', preload=True, verbose=False)\n",
      "<ipython-input-29-e499ddcb6d6c>:4: RuntimeWarning:   Could not parse meas date from the header. Setting to None.\n",
      "  Drowsiness_data = mne.io.read_raw_cnt(path + 'Fatigue state.cnt', preload=True, verbose=False)\n",
      "<ipython-input-29-e499ddcb6d6c>:4: RuntimeWarning: Could not define the number of bytes automatically. Defaulting to 2.\n",
      "  Drowsiness_data = mne.io.read_raw_cnt(path + 'Fatigue state.cnt', preload=True, verbose=False)\n",
      "<ipython-input-29-e499ddcb6d6c>:3: RuntimeWarning:   Could not parse meas date from the header. Setting to None.\n",
      "  Normal_data = mne.io.read_raw_cnt(path + 'Normal state.cnt', preload=True, verbose=False)\n",
      "<ipython-input-29-e499ddcb6d6c>:3: RuntimeWarning: Could not define the number of bytes automatically. Defaulting to 2.\n",
      "  Normal_data = mne.io.read_raw_cnt(path + 'Normal state.cnt', preload=True, verbose=False)\n",
      "<ipython-input-29-e499ddcb6d6c>:4: RuntimeWarning:   Could not parse meas date from the header. Setting to None.\n",
      "  Drowsiness_data = mne.io.read_raw_cnt(path + 'Fatigue state.cnt', preload=True, verbose=False)\n",
      "<ipython-input-29-e499ddcb6d6c>:4: RuntimeWarning: Could not define the number of bytes automatically. Defaulting to 2.\n",
      "  Drowsiness_data = mne.io.read_raw_cnt(path + 'Fatigue state.cnt', preload=True, verbose=False)\n",
      "<ipython-input-29-e499ddcb6d6c>:3: RuntimeWarning:   Could not parse meas date from the header. Setting to None.\n",
      "  Normal_data = mne.io.read_raw_cnt(path + 'Normal state.cnt', preload=True, verbose=False)\n",
      "<ipython-input-29-e499ddcb6d6c>:3: RuntimeWarning: Could not define the number of bytes automatically. Defaulting to 2.\n",
      "  Normal_data = mne.io.read_raw_cnt(path + 'Normal state.cnt', preload=True, verbose=False)\n",
      "<ipython-input-29-e499ddcb6d6c>:4: RuntimeWarning:   Could not parse meas date from the header. Setting to None.\n",
      "  Drowsiness_data = mne.io.read_raw_cnt(path + 'Fatigue state.cnt', preload=True, verbose=False)\n",
      "<ipython-input-29-e499ddcb6d6c>:4: RuntimeWarning: Could not define the number of bytes automatically. Defaulting to 2.\n",
      "  Drowsiness_data = mne.io.read_raw_cnt(path + 'Fatigue state.cnt', preload=True, verbose=False)\n"
     ]
    }
   ],
   "source": [
    "sbj_list = range(1, 13)\n",
    "\n",
    "for sbj in sbj_list:\n",
    "    cnt_to_npy(str(sbj))"
   ]
  },
  {
   "cell_type": "code",
   "execution_count": 73,
   "metadata": {},
   "outputs": [
    {
     "name": "stdout",
     "output_type": "stream",
     "text": [
      "(30, 300, 1000)\n",
      "(30, 300000)\n"
     ]
    },
    {
     "data": {
      "text/plain": [
       "[<matplotlib.lines.Line2D at 0x7f910dad2310>]"
      ]
     },
     "execution_count": 73,
     "metadata": {},
     "output_type": "execute_result"
    },
    {
     "data": {
      "image/png": "[encoded data removed]",
      "text/plain": [
       "<Figure size 432x288 with 1 Axes>"
      ]
     },
     "metadata": {
      "needs_background": "light"
     },
     "output_type": "display_data"
    }
   ],
   "source": [
    "path = 'YOUR PATH'\n",
    "a = np.load(path + \"normal_eeg.npy\")\n",
    "b = np.load(path + \"drowsy_eeg.npy\")\n",
    "\n",
    "path = 'YOUR PATH'\n",
    "c = np.load(path + \"normal_eeg.npy\")\n",
    "d = np.load(path + \"drowsy_eeg.npy\")\n",
    "\n",
    "tmp = np.swapaxes(a, 0, 1)\n",
    "print(tmp.shape)\n",
    "tmp = np.reshape(a, (tmp.shape[0], -1))\n",
    "print(tmp.shape)\n",
    "import matplotlib.pyplot as plt\n",
    "time = range(0, 300000)\n",
    "plt.plot(time, tmp[6, :])"
   ]
  },
  {
   "cell_type": "code",
   "execution_count": 41,
   "metadata": {},
   "outputs": [],
   "source": [
    "# print(Normal_data.get_data().shape)\n",
    "# print(Drowsiness_data.get_data().shape)\n",
    "\n",
    "# # print(Normal_data.crop(0, 600))\n",
    "# # print(Drowsiness_data.crop(0, 600))\n",
    "\n",
    "# print(Normal_data.n_times)\n",
    "# print(Drowsiness_data.n_times)\n",
    "\n",
    "# print(Normal_data.to_data_frame)\n",
    "# print(Drowsiness_data.to_data_frame)\n",
    "\n",
    "# print(Normal_data.times)\n",
    "# print(Drowsiness_data.times)"
   ]
  },
  {
   "cell_type": "code",
   "execution_count": 42,
   "metadata": {},
   "outputs": [],
   "source": [
    "# # Import APIs\n",
    "# import numpy as np\n",
    "# import scipy.io\n",
    "# import mne.io\n",
    "# import csv\n",
    "# import mne\n",
    "\n",
    "# path = 'YOUR PATH'\n",
    "\n",
    "# Normal_data = mne.io.read_raw_cnt(path + 'Normal state.cnt', eog=(), misc=(), ecg=(), emg=(),\n",
    "#                     data_format='auto', date_format='mm/dd/yy', preload=False, stim_channel=False, verbose=None)\n",
    "# Fatigue_data = mne.io.read_raw_cnt(path + 'Fatigue state.cnt', eog=(), misc=(), ecg=(), emg=(),\n",
    "#                     data_format='auto', date_format='mm/dd/yy', preload=False, stim_channel=False, verbose=None)\n",
    "\n",
    "# # print(Normal_data.to_data_frame)\n",
    "# # print(Fatigue_data.to_data_frame)\n",
    "# # print(Normal_data.times)\n",
    "# # print(Fatigue_data.times)\n",
    "# # print(\"\\n\")\n",
    "\n",
    "# a = Normal_data.get_data()\n",
    "# b = Fatigue_data.get_data()\n",
    "\n",
    "# def cropping(data, time_window):\n",
    "#     \"\"\"\n",
    "#     Data shoud have the form of [# of channel, timepoints]\n",
    "#     \"\"\"\n",
    "#     # For rasing value error.\n",
    "#     if time_window > data.shape[1]:\n",
    "#         print(\"time_window should be shorter thna the timepoints of the input data.\")\n",
    "#         raise ValueError\n",
    "#     #TODO: Raising another value error for the illegal shape.\n",
    "    \n",
    "#     num_trials = int(data.shape[-1]/time_window)\n",
    "    \n",
    "#     tmp = np.empty(shape=(num_trials, data.shape[0], time_window))\n",
    "#     for i in range(num_trials):\n",
    "#         tmp[i, :, :] = data[:, i * time_window:(i + 1) * time_window]\n",
    "#     return tmp\n",
    "    \n",
    "# normal_eeg = cropping(a, 600)\n",
    "\n",
    "# print(normal_eeg.shape)\n",
    "\n",
    "# np.save(\"./abc.npy\", normal_eeg)\n",
    "\n",
    "# hello = np.load(\"./abc.npy\")\n",
    "# print(hello.shape, np.count_nonzero(hello))\n",
    "\n",
    "# # print(Normal_data.to_data_frame)\n",
    "# # print(Fatigue_data.to_data_frame)\n",
    "# # print(Normal_data.times)\n",
    "# # print(Fatigue_data.times)\n",
    "\n",
    "# # # Normal_data.annotations.save(\"Normal_test1.npy\")   #modify number\n",
    "# # # Fatigue_data.annotations.save(\"Fatigue_test1.npy\") #modify number\n",
    "\n",
    "# # # pr = np.load(\"Fatigue_test1.npy\")\n",
    "\n",
    "# # f = open(\"Fatigue_test1.npy\")\n",
    "# # try:\n",
    "# #     f.write()\n",
    "# # finally:\n",
    "# #     f.close()\n",
    "\n",
    "# # # Normal_data.save(path + 'N.npy')\n",
    "\n",
    "# # # np.save(path + \"test.npy\", Normal_data)\n",
    "\n",
    "# # # N = open(path + 'N.csv', 'r', encoding='UTF-8')\n",
    "# # # for col in csv.reader(N):\n",
    "# # #     print(col)\n",
    "# # # N.close()\n",
    "\n",
    "# # # nor = np.loadtxt(path + \"N.npy\", delimiter=',')\n",
    "\n",
    "# # # test  = np.load(path + \"test.npy\")\n",
    "# # # print(test.shape)"
   ]
  },
  {
   "cell_type": "code",
   "execution_count": null,
   "metadata": {},
   "outputs": [],
   "source": []
  }
 ],
 "metadata": {
  "kernelspec": {
   "display_name": "Python 3",
   "language": "python",
   "name": "python3"
  },
  "language_info": {
   "codemirror_mode": {
    "name": "ipython",
    "version": 3
   },
   "file_extension": ".py",
   "mimetype": "text/x-python",
   "name": "python",
   "nbconvert_exporter": "python",
   "pygments_lexer": "ipython3",
   "version": "3.7.4"
  }
 },
 "nbformat": 4,
 "nbformat_minor": 2
}
